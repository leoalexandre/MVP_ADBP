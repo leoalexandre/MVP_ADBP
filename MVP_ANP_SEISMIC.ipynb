{
  "nbformat": 4,
  "nbformat_minor": 0,
  "metadata": {
    "colab": {
      "provenance": [],
      "toc_visible": true,
      "authorship_tag": "ABX9TyMS7dtEJymWonqgo7DlUMZh",
      "include_colab_link": true
    },
    "kernelspec": {
      "name": "python3",
      "display_name": "Python 3"
    },
    "language_info": {
      "name": "python"
    }
  },
  "cells": [
    {
      "cell_type": "markdown",
      "metadata": {
        "id": "view-in-github",
        "colab_type": "text"
      },
      "source": [
        "<a href=\"https://colab.research.google.com/github/leoalexandre/mvp_adbp/blob/main/MVP_ANP_SEISMIC.ipynb\" target=\"_parent\"><img src=\"https://colab.research.google.com/assets/colab-badge.svg\" alt=\"Open In Colab\"/></a>"
      ]
    },
    {
      "cell_type": "markdown",
      "source": [
        "# MVP de Análise de Dados e Boas Práticas\n",
        "Por Leonardo da Silva Alexandre"
      ],
      "metadata": {
        "id": "UaeQJoTO3DqY"
      }
    },
    {
      "cell_type": "markdown",
      "source": [
        "## 1.   Definição do Problema"
      ],
      "metadata": {
        "id": "FlRtOPce4-cz"
      }
    },
    {
      "cell_type": "markdown",
      "source": [
        "O dataset utilizado neste projeto foi retirado do site da Agência Nacional do Petróleo (ANP). A criação veio a partir da tabela de atributos retirada do shapefile de todos os programas sísmicos gerados pelo mercado de óleo e gás brasileiro, somado a aplicação de algumas regras presentes na legislação brasileira gerida pela ANP. A legislação nacional pode ser encontrada dentro dos sites da ANP. O shapefile está alocado mais precisamente em:\n",
        "\n",
        "https://www.gov.br/anp/pt-br/assuntos/exploracao-e-producao-de-oleo-e-gas/dados-tecnicos/acervo-de-dados\n",
        "\n",
        "O dataset apresenta atributos relacionados aos programas sísmicos com relação a datas, localização, volume, valor, empresas proprietárias dos dados e período de confidencialidade. Seu objetivo é vislumbrar novos processamentos ou aquisições sísmicas com maior potencial de interesse do mercado a partir da identificação de uma ausência de dados de processamento e suas versões em áreas das bacias sedimentares brasileiras que apresentem maior visibilidade da indústria de óleo e gás.\n",
        "Informações sobre atributos:\n",
        "\n",
        "  1. **VOLUME_GB** – Volume da soma dos arquivos do projeto sísmico;\n",
        "  2. **VALOR_UD** – Valor em UD do projeto sísmico;\n",
        "  3. **PROJETO** – Projeto sísmico oriundo de um programa sísmico;\n",
        "  4. **TIPO_PROCESSAMENTO** – Tipo de processamento sísmico realizado no programa sísmico;\n",
        "  5. **PUBLICIDADE** – Classificação do programa sísmico em público ou confidencial;\n",
        "  6. **PROGRAMA** – Programa sísmico criado pela ANP por solicitação da empresa;\n",
        "  7. **TIPO_PROGRAMA** – Classificação do programa sísmico em Exclusivo (Pré-98), Exclusivo, Não-Exclusivo ou de fomento;\n",
        "  8. **TECNOLOGIA** – Dimensionalidade do dado sísmico;\n",
        "  9. **INÍCIO** – Data de início do programa;\n",
        "  10. **TÉRMINO** – Data de término do programa;\n",
        "  11. **DATA_PUBLICIDADE** – Data na qual o programa se torna público perante a legislação vigente;\n",
        "  12. **BLOCO** – Bloco exploratório onde está localizado o programa sísmico;\n",
        "  13. **CAMPO** – Campo de exploração onde está localizado o programa sísmico;\n",
        "  14. **BACIA** – Bacia geológica onde está localizado o programa sísmico;\n",
        "  15. **EAD** – Empresa de Aquisição de Dados responsável pelo programa sísmico;\n",
        "  16. **OPERADORA** – Empresa Operadora detentora dos direitos sobre os dados do programa sísmico."
      ],
      "metadata": {
        "id": "25Ril6hV3foz"
      }
    },
    {
      "cell_type": "code",
      "source": [],
      "metadata": {
        "id": "Gv0aY0lF4qYN"
      },
      "execution_count": null,
      "outputs": []
    }
  ]
}